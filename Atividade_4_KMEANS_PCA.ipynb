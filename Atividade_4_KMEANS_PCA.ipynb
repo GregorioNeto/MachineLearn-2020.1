{
  "nbformat": 4,
  "nbformat_minor": 0,
  "metadata": {
    "colab": {
      "name": "Atividade_4_KMEANS_PCA.ipynb",
      "provenance": [],
      "collapsed_sections": [],
      "toc_visible": true
    },
    "kernelspec": {
      "name": "python3",
      "display_name": "Python 3"
    }
  },
  "cells": [
    {
      "cell_type": "markdown",
      "metadata": {
        "id": "qJ2J12Mv5RUO"
      },
      "source": [
        "# **Atividade 4 - K-MEANS E PCA**\n"
      ]
    },
    {
      "cell_type": "markdown",
      "metadata": {
        "id": "T_W_3IabF5OD"
      },
      "source": [
        "# **BIBLIOTECAS**\n"
      ]
    },
    {
      "cell_type": "code",
      "metadata": {
        "id": "guMawZDS5gWs"
      },
      "source": [
        "import numpy as np\n",
        "import random\n",
        "import matplotlib.pyplot as plt\n",
        "import pandas as pd\n",
        "from sklearn.linear_model import LogisticRegression\n",
        "from sklearn.metrics import plot_confusion_matrix\n",
        "from sklearn.preprocessing import StandardScaler\n",
        "from sklearn.metrics import accuracy_score\n",
        "from sklearn.model_selection import train_test_split\n",
        "from sklearn.discriminant_analysis import LinearDiscriminantAnalysis\n",
        "import pandas as pd\n",
        "import seaborn as sns\n",
        "import pylab as pl\n",
        "from sklearn.metrics import plot_confusion_matrix\n",
        "from sklearn.metrics import confusion_matrix"
      ],
      "execution_count": null,
      "outputs": []
    },
    {
      "cell_type": "markdown",
      "metadata": {
        "id": "SF3RJ0UHPNOU"
      },
      "source": [
        "#**Função acurácia**"
      ]
    },
    {
      "cell_type": "code",
      "metadata": {
        "id": "USlnoZbDPONq"
      },
      "source": [
        "def f_acuracia(y_true, y_predict):\n",
        "  y_true_size = y_true.shape[0]\n",
        "  media_das_acuracia = (np.sum(y_true == y_predict) / y_true_size)\n",
        "  return media_das_acuracia"
      ],
      "execution_count": null,
      "outputs": []
    },
    {
      "cell_type": "markdown",
      "metadata": {
        "id": "Ey0qQRRtfu1B"
      },
      "source": [
        "#**K-Fould**"
      ]
    },
    {
      "cell_type": "code",
      "metadata": {
        "id": "BOplTuCtf1mG"
      },
      "source": [
        "\n",
        "def k_fold(x, y, k, classificador):\n",
        "  indices = np.arange(x.shape[0])\n",
        "  np.random.shuffle(indices)\n",
        "  \n",
        "  #DEFININDOP OS INDICES\n",
        "  x = x[indices]\n",
        "  y = y[indices]\n",
        "\n",
        "  #TAMANHO DAS ENTRADAS\n",
        "  x_size = x.shape[0]\n",
        "  y_size = y.shape[0]\n",
        "\n",
        "  #o tamanho de cada subset da nossa lista de índices\n",
        "  size = len(indices)\n",
        "  subset_size = round(x_size / k)\n",
        "\n",
        "  x_subsets = [x[i:i + subset_size, :] for i in range(0, x_size, subset_size)]\n",
        "  y_subsets = [y[i:i + subset_size] for i in range(0, y_size, subset_size)]\n",
        "\n",
        "  #GUARDAR OS VALORES DE ACURACIA DE CADA EVENTO\n",
        "  lista_train = []\n",
        "  lista_test = []\n",
        "\n",
        "  for i in range(k):\n",
        "\n",
        "      #definindo os valores de subset para lista\n",
        "      x_test = x_subsets[i]\n",
        "      y_test = y_subsets[i]\n",
        "\n",
        "      #lista em que cada elemento dela será um dos subsets da lista indices.\n",
        "      x_train = np.array([])\n",
        "      y_train = np.array([])\n",
        "     \n",
        "     #dividindo os dados para criar k folds\n",
        "      for j in range(k):\n",
        "          if i != j:\n",
        "              x_train = np.append(x_train, x_subsets[j])\n",
        "              \n",
        "              y_train = np.append(y_train, y_subsets[j])\n",
        "          x_train = x_train.reshape(y_train.shape[0], x.shape[1])\n",
        "\n",
        "      #Treinando e Predizendo os valores\n",
        "      classificador.fit(x_train, y_train)\n",
        "      y_test_pred = classificador.predict(x_test)\n",
        "      y_train_pred = classificador.predict(x_train)\n",
        "\n",
        "      #Calculando as Acurácias \n",
        "      acuracia_test =  f_acuracia(y_test, y_test_pred)\n",
        "      acuracia_train = f_acuracia(y_train, y_train_pred)\n",
        "\n",
        "      #Guardando os valores das Acurácias para fazer a média.\n",
        "      lista_train = np.append(lista_train , acuracia_train)\n",
        "      lista_test =  np.append(lista_test  , acuracia_test)\n",
        "\n",
        "      print(\"---------------- - UTILIZANDO K-FOLD - ----------------\")\n",
        "      print(\"----------------- {}º INTERAÇÃO -----------------\".format(i+1))\n",
        "      print('ACURACIA DE TREINO: {}'.format(acuracia_train))\n",
        "      print('ACURACIA DE TESTE: {}'.format(acuracia_test))\n",
        "\n",
        "  print('\\n')\n",
        "  print(\"----------------- ACURACIA GERAL -----------------\")\n",
        "  print('ACURACIA GERAL DE TREINO: {}'.format(lista_train.mean()))\n",
        "  print('ACURACIA GERAL DE TESTE: {}'.format(lista_test.mean()))\n",
        "\n",
        "\n",
        "\n"
      ],
      "execution_count": null,
      "outputs": []
    },
    {
      "cell_type": "markdown",
      "metadata": {
        "id": "W5ezUVsuW2bi"
      },
      "source": [
        "#**Árvore de Decisão**"
      ]
    },
    {
      "cell_type": "code",
      "metadata": {
        "id": "7VHtz7ytW0SI"
      },
      "source": [
        "class NosArvores:\n",
        "    def __init__(self, data, feature):\n",
        "        self.feature = feature\n",
        "        self.value = data\n",
        "        self.left = None\n",
        "        self.right = None\n",
        "\n",
        "class ArvoredeDecisao():\n",
        "    def __init__(self):\n",
        "        self._estimator_type = \"classifier\"\n",
        "\n",
        "    def cont_unico(self, y):\n",
        "        (unique, counts) = np.unique(y, return_counts=True)\n",
        "        frequency = {}\n",
        "        for i in range(len(unique)):\n",
        "            frequency[unique[i]] = counts[i]\n",
        "        return frequency\n",
        "\n",
        "    def calculate_gini(self, X, y, feature, valor):\n",
        "        x = X[:, feature]\n",
        "        left = {\n",
        "            'total': 0\n",
        "        }\n",
        "        right = {\n",
        "            'total': 0\n",
        "        }\n",
        "        \n"
      ],
      "execution_count": null,
      "outputs": []
    },
    {
      "cell_type": "markdown",
      "metadata": {
        "id": "-UdrI3GoVy4C"
      },
      "source": [
        "#**K-means** "
      ]
    },
    {
      "cell_type": "code",
      "metadata": {
        "id": "yRhHq8I0V4Ke"
      },
      "source": [
        "class Kmeans():\n",
        "    def __init__(self, k):\n",
        "        self._k = k\n",
        "    \n",
        "    def distancia_euclidiana(self, x1, y2):\n",
        "        x = np.sqrt(((x1 - y2)**2).sum())\n",
        "        return x\n",
        "\n",
        "    def at_grupo(self, X):\n",
        "        \n",
        "        self.classes = {}\n",
        "        for i in range(self._k):\n",
        "            self.classes[i] = np.zeros(X.shape[1])\n",
        "\n",
        "        for x in X:\n",
        "            distances = np.array([self.distancia_euclidiana(x, centroid) for centroid in self.centroids])\n",
        "            label = np.argmin(distances)\n",
        "            self.classes[label] = np.vstack((self.classes[label], x))\n",
        "\n",
        "    def c_centroids(self, X):\n",
        "       \n",
        "        anterior = self.centroids\n",
        "        isOptimal = False\n",
        "        while(not isOptimal):    \n",
        "            countDifferents = 0\n",
        "            for label in self.classes:\n",
        "                self.centroids[label] = np.average(self.classes[label], axis = 0)\n",
        "\n",
        "                if(not (anterior[label] == self.centroids[label]).all()):\n",
        "                    countDifferents += 1\n",
        "\n",
        "            if(countDifferents == 0):\n",
        "                isOptimal = True\n",
        "\n",
        "            if(not isOptimal):\n",
        "                self.at_grupo(X)\n",
        "\n",
        "\n",
        "    def fit(self, X):\n",
        "        \n",
        "        self.centroids = np.empty((self._k, X.shape[1]), float)\n",
        "        for i in range(self._k):\n",
        "            self.centroids[i] = np.array([np.random.randint(np.min(X[:, j]), np.max(X[:, j])) for j in range(X.shape[1])])\n",
        "\n",
        "        self.at_grupo(X)\n",
        "        self.c_centroids(X)\n",
        "\n",
        "    def predict(self, X):\n",
        "        \n",
        "        self.class_distance = np.array([])\n",
        "        predicted = np.array([])\n",
        "        \n",
        "        for x in X:\n",
        "            distancias = np.array([self.distancia_euclidiana(x, centroid) for centroid in self.centroids])\n",
        "            label = np.argmin(distancias)\n",
        "            self.class_distance = np.append(self.class_distance,np.min(distancias))\n",
        "            predicted = np.append(predicted, label)\n",
        "\n",
        "        return predicted"
      ],
      "execution_count": null,
      "outputs": []
    },
    {
      "cell_type": "markdown",
      "metadata": {
        "id": "mXh0roYl5kaB"
      },
      "source": [
        "\n",
        "\n",
        "#**PCA** \n",
        "\n",
        "\n"
      ]
    },
    {
      "cell_type": "code",
      "metadata": {
        "id": "EXuyH8OE87Ga"
      },
      "source": [
        "class PCA():\n",
        "    def __init__(self, n):\n",
        "        self._n = n\n",
        "\n",
        "    def c_covarianca(self, X):\n",
        "        n = X.shape[0]\n",
        "        x = ((X - np.mean(X, axis=0)).T @ (X - np.mean(X, axis=0))) / (n - 1)\n",
        "        return x\n",
        "    \n",
        "    def fit(self, X):\n",
        "       \n",
        "        X = StandardScaler().fit_transform(X)\n",
        "        covarianca = self.c_covarianca(X)\n",
        "        values, vectors = np.linalg.eig(covarianca)\n",
        "        \n",
        "        indices = (-values).argsort()[:self._n]\n",
        "        self.w = vectors[:, indices]\n",
        "        self.variance = np.array([])\n",
        "\n",
        "        for i in indices:\n",
        "            self.variance = np.append(self.variance, values[i] / values.sum())\n",
        "\n",
        "\n",
        "    def transform(self, X):\n",
        "       \n",
        "        X = StandardScaler().fit_transform(X)\n",
        "        Y = (self.w.T @ X.T).T\n",
        "        return Y"
      ],
      "execution_count": null,
      "outputs": []
    },
    {
      "cell_type": "markdown",
      "metadata": {
        "id": "HlTVWAADXFX-"
      },
      "source": [
        "#**Carregando Dados**"
      ]
    },
    {
      "cell_type": "code",
      "metadata": {
        "id": "2uNT43w4XErI"
      },
      "source": [
        "data = np.loadtxt(\"Dados/trab4.data\", delimiter=\",\")\n",
        "x = data[:, 0:2]\n",
        "y = data[:, 2]\n",
        "\n",
        "\n",
        "\n",
        "\n"
      ],
      "execution_count": null,
      "outputs": []
    },
    {
      "cell_type": "markdown",
      "metadata": {
        "id": "nOV3OMInFdj2"
      },
      "source": [
        "#**RESULTADOS**\n"
      ]
    },
    {
      "cell_type": "markdown",
      "metadata": {
        "id": "yfVTfaazqHey"
      },
      "source": [
        "O K-means:\n",
        "Os valores 3 e 4 são bons para k. Já que om o valor com k=4 o modelo conseguiu se adequou bem. Já com k = 3, também se adequou bem."
      ]
    },
    {
      "cell_type": "code",
      "metadata": {
        "id": "WdMm_61aFoDS",
        "colab": {
          "base_uri": "https://localhost:8080/",
          "height": 692
        },
        "outputId": "dda38055-85c9-479b-eff1-36baa3ea93e4"
      },
      "source": [
        "print(\"---------------- - UTILIZANDO K-means - ----------------\")\n",
        "print('\\n')\n",
        "\n",
        "m_distancia = np.array([])\n",
        "for k in range(2, 5):\n",
        "    distance = 0\n",
        "    for _ in range(10):\n",
        "        kmeans = Kmeans(k)\n",
        "        kmeans.fit(x)\n",
        "        kmeans.predict(x)\n",
        "        distance += kmeans.class_distance.mean()\n",
        "    m_distancia = np.append(m_distancia, distance/10)\n",
        "\n",
        "plt.scatter(range(2,5), m_distancia, color='green')\n",
        "plt.plot(range(2,5), m_distancia, color='red')\n",
        "\n",
        "plt.title(\"Distancia com k-means\")\n",
        "plt.xlabel(\"K\")\n",
        "plt.ylabel(\"Distância\")\n",
        "plt.show()\n",
        "\n",
        "#AD = ArvoredeDecisao\n",
        "#k_fold(x, y, 5, AD)\n",
        "\n",
        "\n",
        "print(\"---------------- - UTILIZANDO PCA - ----------------\")\n",
        "print('\\n')\n",
        "pca = PCA(2)\n",
        "pca.fit(x)\n",
        "x = pca.transform(x)\n",
        "print(\"variância preservada: {}\".format(pca.variance.sum()))\n",
        "\n",
        "plt.scatter(x[:, 0], x[:, 1], c=y, edgecolors='k')\n",
        "plt.title(\"Componentes\")\n",
        "plt.xlabel('PC1 ({:.2f}%)'.format(pca.variance[0] * 100))\n",
        "plt.ylabel('PC2 ({:.2f}%)'.format(pca.variance[1] * 100))\n",
        "plt.show()\n"
      ],
      "execution_count": null,
      "outputs": [
        {
          "output_type": "stream",
          "text": [
            "---------------- - UTILIZANDO K-means - ----------------\n",
            "\n",
            "\n"
          ],
          "name": "stdout"
        },
        {
          "output_type": "display_data",
          "data": {
            "image/png": "[encoded data removed]",
            "text/plain": [
              "<Figure size 432x288 with 1 Axes>"
            ]
          },
          "metadata": {
            "tags": [],
            "needs_background": "light"
          }
        },
        {
          "output_type": "stream",
          "text": [
            "---------------- - UTILIZANDO PCA - ----------------\n",
            "\n",
            "\n",
            "variância preservada: 1.0\n"
          ],
          "name": "stdout"
        },
        {
          "output_type": "display_data",
          "data": {
            "image/png": "[encoded data removed]",
            "text/plain": [
              "<Figure size 432x288 with 1 Axes>"
            ]
          },
          "metadata": {
            "tags": [],
            "needs_background": "light"
          }
        }
      ]
    }
  ]
}