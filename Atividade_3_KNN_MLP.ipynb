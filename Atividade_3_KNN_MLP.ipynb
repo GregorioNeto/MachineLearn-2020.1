{
  "nbformat": 4,
  "nbformat_minor": 0,
  "metadata": {
    "colab": {
      "name": "Atividade_3_KNN_MLP.ipynb",
      "provenance": [],
      "collapsed_sections": [],
      "toc_visible": true
    },
    "kernelspec": {
      "name": "python3",
      "display_name": "Python 3"
    }
  },
  "cells": [
    {
      "cell_type": "markdown",
      "metadata": {
        "id": "qJ2J12Mv5RUO"
      },
      "source": [
        "# **Atividade 3 - KNN E MLP**\n"
      ]
    },
    {
      "cell_type": "markdown",
      "metadata": {
        "id": "T_W_3IabF5OD"
      },
      "source": [
        "# **BIBLIOTECAS**\n"
      ]
    },
    {
      "cell_type": "code",
      "metadata": {
        "id": "guMawZDS5gWs"
      },
      "source": [
        "import numpy as np\n",
        "import random\n",
        "import matplotlib.pyplot as plt\n",
        "import pandas as pd\n",
        "from sklearn.linear_model import LogisticRegression\n",
        "from sklearn.metrics import plot_confusion_matrix\n",
        "from sklearn.preprocessing import StandardScaler\n",
        "from sklearn.metrics import accuracy_score\n",
        "from sklearn.model_selection import train_test_split\n",
        "from sklearn.discriminant_analysis import LinearDiscriminantAnalysis\n",
        "import pandas as pd\n",
        "import seaborn as sns\n",
        "import pylab as pl\n",
        "from sklearn.metrics import plot_confusion_matrix\n",
        "from sklearn.metrics import confusion_matrix"
      ],
      "execution_count": null,
      "outputs": []
    },
    {
      "cell_type": "markdown",
      "metadata": {
        "id": "SF3RJ0UHPNOU"
      },
      "source": [
        "#**Função acurácia**"
      ]
    },
    {
      "cell_type": "code",
      "metadata": {
        "id": "USlnoZbDPONq"
      },
      "source": [
        "def f_acuracia(y_true, y_predict):\n",
        "  y_true_size = y_true.shape[0]\n",
        "  media_das_acuracia = (np.sum(y_true == y_predict) / y_true_size)\n",
        "  return media_das_acuracia"
      ],
      "execution_count": null,
      "outputs": []
    },
    {
      "cell_type": "markdown",
      "metadata": {
        "id": "zcvW4n-ttnNp"
      },
      "source": [
        "#**Matriz de Confusão**"
      ]
    },
    {
      "cell_type": "code",
      "metadata": {
        "id": "-IaCAmzdt2vD"
      },
      "source": [
        "def plot_confusion_matrix_(x, y, classificador):\n",
        "    y_test_predict = classificador.predict(x)\n",
        "\n",
        "    cm = confusion_matrix(y ,y_test_predict)\n",
        "    \n",
        "    index = [\"x1\", \"x2\"]\n",
        "    columns = [\"x1\", \"x2\"]\n",
        "\n",
        "    cm_df = pd.DataFrame(cm, columns, index)\n",
        "    plt.figure(figsize=(6,6))\n",
        "    sns.heatmap(cm_df, annot=True, cmap=plt.cm.Greens)\n",
        "    \n",
        "    plt.show()"
      ],
      "execution_count": null,
      "outputs": []
    },
    {
      "cell_type": "markdown",
      "metadata": {
        "id": "_8OO5Y47tpVs"
      },
      "source": [
        "#**Fronteiras de Separação do Classificador**"
      ]
    },
    {
      "cell_type": "code",
      "metadata": {
        "id": "rUo7Ia9yt3Ud"
      },
      "source": [
        " def plot_boundaries(x, y, classificador):\n",
        "      \n",
        "      x_min, x_max = x[:, 0].min() - 0.5, x[:, 0].max() + 0.5\n",
        "      y_min, y_max = x[:, 1].min() - 0.5, x[:, 1].max() + 0.5\n",
        "      h = 0.6\n",
        "\n",
        "      xx, yy = np.meshgrid(np.arange(x_min, x_max, h), np.arange(y_min, y_max, h))\n",
        "      Z = classificador.predict(np.c_[xx.ravel(), yy.ravel()])\n",
        "      \n",
        "      Z = Z.reshape(xx.shape)\n",
        "      plt.figure(1, figsize=(4, 3))\n",
        "      plt.pcolormesh(xx, yy, Z, cmap=plt.cm.Paired)\n",
        "      \n",
        "      plt.scatter(x[:, 0], x[:, 1], c=y, edgecolors='k', cmap=plt.cm.Paired)\n",
        "      plt.xlabel('x1')\n",
        "      plt.ylabel('x2')\n",
        "\n",
        "      plt.xlim(xx.min(), xx.max())\n",
        "      plt.ylim(yy.min(), yy.max())\n",
        "      plt.xticks(())\n",
        "      plt.yticks(())\n",
        "\n",
        "      plt.show()\n",
        "    "
      ],
      "execution_count": null,
      "outputs": []
    },
    {
      "cell_type": "markdown",
      "metadata": {
        "id": "Ey0qQRRtfu1B"
      },
      "source": [
        "#**K-Fould**"
      ]
    },
    {
      "cell_type": "code",
      "metadata": {
        "id": "BOplTuCtf1mG"
      },
      "source": [
        "\n",
        "def k_fold(x, y, k, classificador):\n",
        "  indices = np.arange(x.shape[0])\n",
        "  np.random.shuffle(indices)\n",
        "  \n",
        "  #DEFININDOP OS INDICES\n",
        "  x = x[indices]\n",
        "  y = y[indices]\n",
        "\n",
        "  #TAMANHO DAS ENTRADAS\n",
        "  x_size = x.shape[0]\n",
        "  y_size = y.shape[0]\n",
        "\n",
        "  #o tamanho de cada subset da nossa lista de índices\n",
        "  size = len(indices)\n",
        "  subset_size = round(x_size / k)\n",
        "\n",
        "  x_subsets = [x[i:i + subset_size, :] for i in range(0, x_size, subset_size)]\n",
        "  y_subsets = [y[i:i + subset_size] for i in range(0, y_size, subset_size)]\n",
        "\n",
        "  #GUARDAR OS VALORES DE ACURACIA DE CADA EVENTO\n",
        "  lista_train = []\n",
        "  lista_test = []\n",
        "\n",
        "  for i in range(k):\n",
        "\n",
        "      #definindo os valores de subset para lista\n",
        "      x_test = x_subsets[i]\n",
        "      y_test = y_subsets[i]\n",
        "\n",
        "      #lista em que cada elemento dela será um dos subsets da lista indices.\n",
        "      x_train = np.array([])\n",
        "      y_train = np.array([])\n",
        "     \n",
        "     #dividindo os dados para criar k folds\n",
        "      for j in range(k):\n",
        "          if i != j:\n",
        "              x_train = np.append(x_train, x_subsets[j])\n",
        "              \n",
        "              y_train = np.append(y_train, y_subsets[j])\n",
        "          x_train = x_train.reshape(y_train.shape[0], x.shape[1])\n",
        "\n",
        "      #Treinando e Predizendo os valores\n",
        "      classificador.fit(x_train, y_train)\n",
        "      y_test_pred = classificador.predict(x_test)\n",
        "      y_train_pred = classificador.predict(x_train)\n",
        "\n",
        "      #Calculando as Acurácias \n",
        "      acuracia_test =  f_acuracia(y_test, y_test_pred)\n",
        "      acuracia_train = f_acuracia(y_train, y_train_pred)\n",
        "\n",
        "      #Guardando os valores das Acurácias para fazer a média.\n",
        "      lista_train = np.append(lista_train , acuracia_train)\n",
        "      lista_test =  np.append(lista_test  , acuracia_test)\n",
        "\n",
        "      print(\"---------------- - UTILIZANDO K-FOLD - ----------------\")\n",
        "      print(\"----------------- {}º INTERAÇÃO -----------------\".format(i+1))\n",
        "      print('ACURACIA DE TREINO: {}'.format(acuracia_train))\n",
        "      print('ACURACIA DE TESTE: {}'.format(acuracia_test))\n",
        "      print(\"----------------- MATRIZ DE CONFUSÃO ({}) -----------------\".format(i+1))\n",
        "      plot_confusion_matrix_(x_test, y_test, classificador)\n",
        "  print('\\n')\n",
        "  print(\"----------------- ACURACIA GERAL -----------------\")\n",
        "  print('ACURACIA GERAL DE TREINO: {}'.format(lista_train.mean()))\n",
        "  print('ACURACIA GERAL DE TESTE: {}'.format(lista_test.mean()))\n",
        "\n",
        "\n",
        "\n"
      ],
      "execution_count": null,
      "outputs": []
    },
    {
      "cell_type": "markdown",
      "metadata": {
        "id": "mXh0roYl5kaB"
      },
      "source": [
        "\n",
        "\n",
        "#**KNN Classificação** \n",
        "\n",
        "\n"
      ]
    },
    {
      "cell_type": "code",
      "metadata": {
        "id": "EXuyH8OE87Ga"
      },
      "source": [
        " class KNN(): \n",
        "  def __init__(self, k):\n",
        "    self._estimator_type = \"classifier\"\n",
        "    self.k = k\n",
        "\n",
        "  def euclidiana_dist (self,x,y):\n",
        "    x_ = (x - y) ** 2\n",
        "    return np.sqrt(np.sum(x_, axis=1))  \n",
        "\n",
        "  def fit(self, x, y):\n",
        "    self.x = x\n",
        "    self.y = y\n",
        "\n",
        "  def predict(self, x_test):\n",
        "    x_train = self.x\n",
        "    y_train = self.y\n",
        "    x_test = x_test\n",
        "    \n",
        "  \n",
        "    size_x_train = x_train.shape\n",
        "    size_y_train = y_train.shape\n",
        "    size_x_test = x_test.shape\n",
        "\n",
        "    euclidean_pred = []\n",
        "\n",
        "    for i in range(size_x_test[0]):\n",
        "\n",
        "      dist_euc = self.euclidiana_dist(x_train, x_test[i])\n",
        "      #print(dist_euc)\n",
        "      idx_sort = np.argsort(dist_euc)     \n",
        "      idx_KNN = idx_sort[:k]\n",
        "\n",
        "      count = np.bincount(np.int64(y_train[idx_KNN]))        \n",
        "      euclidean_pred.append(np.argmax(count))\n",
        "        \n",
        "    return np.array(euclidean_pred)\n",
        "    \n",
        "    \n",
        "    \n"
      ],
      "execution_count": null,
      "outputs": []
    },
    {
      "cell_type": "markdown",
      "metadata": {
        "id": "AiQFGUttIRmM"
      },
      "source": [
        "#**MLP**"
      ]
    },
    {
      "cell_type": "code",
      "metadata": {
        "id": "LRxwpIDSIUKR"
      },
      "source": [
        "class MLP():\n",
        "    \n",
        "    def __init__(self, camada, epoca, taxa_aprendizagem):\n",
        "        self._estimator_type = \"classifier\"\n",
        "        self.camada = camada\n",
        "        self.epoca = epoca\n",
        "        self.taxa_aprendizagem = taxa_aprendizagem\n",
        "\n",
        "    def f_ativacao(self, X):\n",
        "        ativacao =  1.0 / (1 + np.exp(-1 * X))\n",
        "        return ativacao\n",
        "\n",
        "    def f_ativacao_derivada(self, x):\n",
        "        f_ativacao = self.f_ativacao(x)\n",
        "        ativacao_derivada = f_ativacao * (1 - f_ativacao)\n",
        "        return ativacao_derivada\n",
        "\n",
        "    #ATUALIZANDO OS PESOS\n",
        "    def att_pesos(self, X, y):\n",
        "        #Definindo o novo valor predito\n",
        "        y_pred = self.predict(X[:, 1:])\n",
        "        \n",
        "        #Calculando o erro\n",
        "        erro = y - y_pred\n",
        "\n",
        "        carregando_peso = []\n",
        "        #definindo o valor de saida u\n",
        "        for i in self.u_saida:\n",
        "            carregando_peso = np.append(carregando_peso, self.f_ativacao_derivada(i))\n",
        "\n",
        "        delta_k = erro * carregando_peso \n",
        "\n",
        "        carregando_peso = []\n",
        "        for j in self.u_hidden:\n",
        "            for i in j:\n",
        "                carregando_peso = np.append(carregando_peso, self.f_ativacao_derivada(i))\n",
        "        carregando_peso = carregando_peso.reshape(self.u_hidden.shape)\n",
        "\n",
        "        delta_i = []\n",
        "        for i in range(X.shape[0]):\n",
        "            delta_i = np.append(delta_i, carregando_peso[i] * (delta_k[i] * self.m).sum())\n",
        "        delta_i = delta_i.reshape(X.shape[0], self.camada)\n",
        "                 \n",
        "        self.m = self.m + (self.taxa_aprendizagem * np.matmul(delta_k.T, self.z))\n",
        "        self.w = self.w + (self.taxa_aprendizagem * np.matmul(delta_i.T, X))\n",
        "    \n",
        "    def fit(self, x, y):\n",
        "        bias = -1 * np.ones((x.shape[0],1))\n",
        "        x = np.hstack((bias,x))\n",
        "\n",
        "        self.w = np.random.rand(self.camada, x.shape[1])\n",
        "        self.m = np.random.rand(1, self.camada +1)\n",
        "\n",
        "        for _ in range(self.epoca):\n",
        "            self.att_pesos(x, y)\n",
        "\n",
        "    def predict(self, x_test):\n",
        "        bias = -1 * np.ones((x_test.shape[0],1))\n",
        "        x_test = np.hstack((bias,x_test))\n",
        "\n",
        "        self.u_hidden = np.matmul(x_test, self.w.T)\n",
        "\n",
        "        self.z = []\n",
        "        for j in self.u_hidden:\n",
        "            for i in j:\n",
        "                result = self.f_ativacao(i)\n",
        "                self.z = np.append(self.z, result)\n",
        "        \n",
        "        self.z = self.z.reshape(self.u_hidden.shape)\n",
        "        self.z = np.hstack((bias, self.z))\n",
        "\n",
        "        self.u_saida = np.matmul(self.z,self.m.T)\n",
        "\n",
        "        self.y_pred = np.array([])\n",
        "        for value in self.u_saida:\n",
        "            result = self.f_ativacao(value)\n",
        "            if result > 0.5:\n",
        "                self.y_pred = np.append(self.y_pred, 1)\n",
        "            else:\n",
        "                self.y_pred = np.append(self.y_pred, 0)\n",
        "        return self.y_pred\n",
        "\n"
      ],
      "execution_count": null,
      "outputs": []
    },
    {
      "cell_type": "markdown",
      "metadata": {
        "id": "HlTVWAADXFX-"
      },
      "source": [
        "#**Carregando Dados**"
      ]
    },
    {
      "cell_type": "code",
      "metadata": {
        "id": "2uNT43w4XErI"
      },
      "source": [
        "data = np.loadtxt(\"Dados/data2.txt\", delimiter=\",\")\n",
        "x = data[:, 0:2]\n",
        "y = data[:, 2]\n",
        "#emabaralha os dados\n",
        "np.random.shuffle(data) \n",
        "\n",
        "#percentual = int(x.shape[0]*0.7) # 70% dos valores de amostra de x\n",
        "#x_train\t= x[:percentual] #pegando 70% dos valores de amostra de x (FIT)\n",
        "#y_train\t= y[:percentual] #pegando 70% dos valores de amostra de y (FIT)\n",
        "#x_teste = x[percentual:] #pegando 30% dos valores de amostra de x (PREDICT)\n",
        "#y_teste = y[percentual:] #pegando 30% dos valores de amostra de y (PREDICT)\n",
        "\n",
        "#sdt = StandardScaler()\n",
        "#x_train_std = sdt.fit_transform(x_train)\n",
        "#x_test_std  = sdt.transform(x_teste)\n",
        "#print(\"Valor\", x_train)\n",
        "\n",
        "#KNN = KNN()\n",
        "#MLP = MLP(epoca=1500, taxa_aprendizagem= 0.0001, camada = 5)\n",
        "\n",
        "#MLP.fit(x_train_std, y_train)\n",
        "#y_test_predict = MLP.predict(x_test_std)\n",
        "#print(\"Teste\", y_test_predict)\n",
        "\n",
        "#KNN.fit(x_train_std, y_train, k)\n",
        "#y_test_predict = KNN.predict(x_test_std)\n",
        "#print(\"Teste\", y_test_predict)\n",
        "\n",
        "\n",
        "\n"
      ],
      "execution_count": null,
      "outputs": []
    },
    {
      "cell_type": "markdown",
      "metadata": {
        "id": "nOV3OMInFdj2"
      },
      "source": [
        "#**RESULTADOS**\n"
      ]
    },
    {
      "cell_type": "code",
      "metadata": {
        "id": "WdMm_61aFoDS",
        "colab": {
          "base_uri": "https://localhost:8080/",
          "height": 1000
        },
        "outputId": "581f63ea-ae02-45e9-be1d-7031f40638aa"
      },
      "source": [
        "print(\"---------------- - UTILIZANDO KNN - ----------------\")\n",
        "print('\\n')\n",
        "k = 5\n",
        "KNN = KNN(k = k)\n",
        "k_fold(x, y, 5, KNN)\n",
        "print(\"      -Fronteiras de Separação do Classificador-\")\n",
        "plot_boundaries(x, y, KNN)\n",
        "print('\\n')\n",
        "\n",
        "print(\"---------------- - UTILIZANDO MLP - ----------------\")\n",
        "print('\\n')\n",
        "MLP = MLP(epoca=1000, taxa_aprendizagem= 0.001, camada = 5)\n",
        "k_fold(x, y, 5, MLP)\n",
        "print(\"      -Fronteiras de Separação do Classificador-\")\n",
        "plot_boundaries(x, y, MLP)"
      ],
      "execution_count": null,
      "outputs": [
        {
          "output_type": "stream",
          "text": [
            "---------------- - UTILIZANDO KNN - ----------------\n",
            "\n",
            "\n",
            "---------------- - UTILIZANDO K-FOLD - ----------------\n",
            "----------------- 1º INTERAÇÃO -----------------\n",
            "ACURACIA DE TREINO: 0.925\n",
            "ACURACIA DE TESTE: 0.85\n",
            "----------------- MATRIZ DE CONFUSÃO (1) -----------------\n"
          ],
          "name": "stdout"
        },
        {
          "output_type": "display_data",
          "data": {
            "image/png": "[encoded data removed]",
            "text/plain": [
              "<Figure size 432x432 with 2 Axes>"
            ]
          },
          "metadata": {
            "tags": [],
            "needs_background": "light"
          }
        },
        {
          "output_type": "stream",
          "text": [
            "---------------- - UTILIZANDO K-FOLD - ----------------\n",
            "----------------- 2º INTERAÇÃO -----------------\n",
            "ACURACIA DE TREINO: 0.925\n",
            "ACURACIA DE TESTE: 0.85\n",
            "----------------- MATRIZ DE CONFUSÃO (2) -----------------\n"
          ],
          "name": "stdout"
        },
        {
          "output_type": "display_data",
          "data": {
            "image/png": "[encoded data removed]",
            "text/plain": [
              "<Figure size 432x432 with 2 Axes>"
            ]
          },
          "metadata": {
            "tags": [],
            "needs_background": "light"
          }
        },
        {
          "output_type": "stream",
          "text": [
            "---------------- - UTILIZANDO K-FOLD - ----------------\n",
            "----------------- 3º INTERAÇÃO -----------------\n",
            "ACURACIA DE TREINO: 0.9\n",
            "ACURACIA DE TESTE: 0.9\n",
            "----------------- MATRIZ DE CONFUSÃO (3) -----------------\n"
          ],
          "name": "stdout"
        },
        {
          "output_type": "display_data",
          "data": {
            "image/png": "[encoded data removed]",
            "text/plain": [
              "<Figure size 432x432 with 2 Axes>"
            ]
          },
          "metadata": {
            "tags": [],
            "needs_background": "light"
          }
        },
        {
          "output_type": "stream",
          "text": [
            "---------------- - UTILIZANDO K-FOLD - ----------------\n",
            "----------------- 4º INTERAÇÃO -----------------\n",
            "ACURACIA DE TREINO: 0.925\n",
            "ACURACIA DE TESTE: 0.9\n",
            "----------------- MATRIZ DE CONFUSÃO (4) -----------------\n"
          ],
          "name": "stdout"
        },
        {
          "output_type": "display_data",
          "data": {
            "image/png": "[encoded data removed]",
            "text/plain": [
              "<Figure size 432x432 with 2 Axes>"
            ]
          },
          "metadata": {
            "tags": [],
            "needs_background": "light"
          }
        },
        {
          "output_type": "stream",
          "text": [
            "---------------- - UTILIZANDO K-FOLD - ----------------\n",
            "----------------- 5º INTERAÇÃO -----------------\n",
            "ACURACIA DE TREINO: 0.9\n",
            "ACURACIA DE TESTE: 0.95\n",
            "----------------- MATRIZ DE CONFUSÃO (5) -----------------\n"
          ],
          "name": "stdout"
        },
        {
          "output_type": "display_data",
          "data": {
            "image/png": "[encoded data removed]",
            "text/plain": [
              "<Figure size 432x432 with 2 Axes>"
            ]
          },
          "metadata": {
            "tags": [],
            "needs_background": "light"
          }
        },
        {
          "output_type": "stream",
          "text": [
            "\n",
            "\n",
            "----------------- ACURACIA GERAL -----------------\n",
            "ACURACIA GERAL DE TREINO: 0.915\n",
            "ACURACIA GERAL DE TESTE: 0.89\n",
            "      -Fronteiras de Separação do Classificador-\n"
          ],
          "name": "stdout"
        },
        {
          "output_type": "display_data",
          "data": {
            "image/png": "[encoded data removed]",
            "text/plain": [
              "<Figure size 288x216 with 1 Axes>"
            ]
          },
          "metadata": {
            "tags": []
          }
        },
        {
          "output_type": "stream",
          "text": [
            "---------------- - UTILIZANDO MLP - ----------------\n",
            "\n",
            "\n",
            "---------------- - UTILIZANDO K-FOLD - ----------------\n",
            "----------------- 1º INTERAÇÃO -----------------\n",
            "ACURACIA DE TREINO: 0.625\n",
            "ACURACIA DE TESTE: 0.5\n",
            "----------------- MATRIZ DE CONFUSÃO (1) -----------------\n"
          ],
          "name": "stdout"
        },
        {
          "output_type": "display_data",
          "data": {
            "image/png": "[encoded data removed]",
            "text/plain": [
              "<Figure size 432x432 with 2 Axes>"
            ]
          },
          "metadata": {
            "tags": [],
            "needs_background": "light"
          }
        },
        {
          "output_type": "stream",
          "text": [
            "---------------- - UTILIZANDO K-FOLD - ----------------\n",
            "----------------- 2º INTERAÇÃO -----------------\n",
            "ACURACIA DE TREINO: 0.575\n",
            "ACURACIA DE TESTE: 0.7\n",
            "----------------- MATRIZ DE CONFUSÃO (2) -----------------\n"
          ],
          "name": "stdout"
        },
        {
          "output_type": "display_data",
          "data": {
            "image/png": "[encoded data removed]",
            "text/plain": [
              "<Figure size 432x432 with 2 Axes>"
            ]
          },
          "metadata": {
            "tags": [],
            "needs_background": "light"
          }
        },
        {
          "output_type": "stream",
          "text": [
            "---------------- - UTILIZANDO K-FOLD - ----------------\n",
            "----------------- 3º INTERAÇÃO -----------------\n",
            "ACURACIA DE TREINO: 0.6\n",
            "ACURACIA DE TESTE: 0.6\n",
            "----------------- MATRIZ DE CONFUSÃO (3) -----------------\n"
          ],
          "name": "stdout"
        },
        {
          "output_type": "display_data",
          "data": {
            "image/png": "[encoded data removed]",
            "text/plain": [
              "<Figure size 432x432 with 2 Axes>"
            ]
          },
          "metadata": {
            "tags": [],
            "needs_background": "light"
          }
        },
        {
          "output_type": "stream",
          "text": [
            "---------------- - UTILIZANDO K-FOLD - ----------------\n",
            "----------------- 4º INTERAÇÃO -----------------\n",
            "ACURACIA DE TREINO: 0.3875\n",
            "ACURACIA DE TESTE: 0.45\n",
            "----------------- MATRIZ DE CONFUSÃO (4) -----------------\n"
          ],
          "name": "stdout"
        },
        {
          "output_type": "display_data",
          "data": {
            "image/png": "[encoded data removed]",
            "text/plain": [
              "<Figure size 432x432 with 2 Axes>"
            ]
          },
          "metadata": {
            "tags": [],
            "needs_background": "light"
          }
        },
        {
          "output_type": "stream",
          "text": [
            "---------------- - UTILIZANDO K-FOLD - ----------------\n",
            "----------------- 5º INTERAÇÃO -----------------\n",
            "ACURACIA DE TREINO: 0.5875\n",
            "ACURACIA DE TESTE: 0.65\n",
            "----------------- MATRIZ DE CONFUSÃO (5) -----------------\n"
          ],
          "name": "stdout"
        },
        {
          "output_type": "display_data",
          "data": {
            "image/png": "[encoded data removed]",
            "text/plain": [
              "<Figure size 432x432 with 2 Axes>"
            ]
          },
          "metadata": {
            "tags": [],
            "needs_background": "light"
          }
        },
        {
          "output_type": "stream",
          "text": [
            "\n",
            "\n",
            "----------------- ACURACIA GERAL -----------------\n",
            "ACURACIA GERAL DE TREINO: 0.5549999999999999\n",
            "ACURACIA GERAL DE TESTE: 0.58\n",
            "      -Fronteiras de Separação do Classificador-\n"
          ],
          "name": "stdout"
        },
        {
          "output_type": "display_data",
          "data": {
            "image/png": "[encoded data removed]",
            "text/plain": [
              "<Figure size 288x216 with 1 Axes>"
            ]
          },
          "metadata": {
            "tags": []
          }
        }
      ]
    }
  ]
}